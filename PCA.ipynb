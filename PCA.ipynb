{
 "cells": [
  {
   "cell_type": "code",
   "execution_count": 11,
   "id": "b1d0dc85",
   "metadata": {},
   "outputs": [],
   "source": [
    "import pandas as pd\n",
    "import numpy as np\n",
    "from sklearn.preprocessing import StandardScaler\n",
    "import seaborn as sns\n",
    "import matplotlib.pyplot as plt"
   ]
  },
  {
   "cell_type": "code",
   "execution_count": 2,
   "id": "ed729bba",
   "metadata": {},
   "outputs": [],
   "source": [
    "data = pd.read_csv('C:/Users/prate/Downloads/iris.csv')"
   ]
  },
  {
   "cell_type": "code",
   "execution_count": 3,
   "id": "8e5bd2a3",
   "metadata": {},
   "outputs": [],
   "source": [
    "x = data.drop('species',axis = 1)\n",
    "y  = data.species"
   ]
  },
  {
   "cell_type": "code",
   "execution_count": 5,
   "id": "ebfb7158",
   "metadata": {},
   "outputs": [
    {
     "data": {
      "text/plain": [
       "array([[-9.00681170e-01, -1.14301691e+00, -1.38535265e+00,\n",
       "        -1.50652052e+00, -1.02184904e+00, -5.37177559e-01,\n",
       "        -1.50652052e+00, -1.02184904e+00, -1.74885626e+00,\n",
       "        -1.14301691e+00, -5.37177559e-01, -1.26418478e+00,\n",
       "        -1.26418478e+00, -1.87002413e+00, -5.25060772e-02,\n",
       "        -1.73673948e-01, -5.37177559e-01, -9.00681170e-01,\n",
       "        -1.73673948e-01, -9.00681170e-01, -5.37177559e-01,\n",
       "        -9.00681170e-01, -1.50652052e+00, -9.00681170e-01,\n",
       "        -1.26418478e+00, -1.02184904e+00, -1.02184904e+00,\n",
       "        -7.79513300e-01, -7.79513300e-01, -1.38535265e+00,\n",
       "        -1.26418478e+00, -5.37177559e-01, -7.79513300e-01,\n",
       "        -4.16009689e-01, -1.14301691e+00, -1.02184904e+00,\n",
       "        -4.16009689e-01, -1.14301691e+00, -1.74885626e+00,\n",
       "        -9.00681170e-01, -1.02184904e+00, -1.62768839e+00,\n",
       "        -1.74885626e+00, -1.02184904e+00, -9.00681170e-01,\n",
       "        -1.26418478e+00, -9.00681170e-01, -1.50652052e+00,\n",
       "        -6.58345429e-01, -1.02184904e+00,  1.40150837e+00,\n",
       "         6.74501145e-01,  1.28034050e+00, -4.16009689e-01,\n",
       "         7.95669016e-01, -1.73673948e-01,  5.53333275e-01,\n",
       "        -1.14301691e+00,  9.16836886e-01, -7.79513300e-01,\n",
       "        -1.02184904e+00,  6.86617933e-02,  1.89829664e-01,\n",
       "         3.10997534e-01, -2.94841818e-01,  1.03800476e+00,\n",
       "        -2.94841818e-01, -5.25060772e-02,  4.32165405e-01,\n",
       "        -2.94841818e-01,  6.86617933e-02,  3.10997534e-01,\n",
       "         5.53333275e-01,  3.10997534e-01,  6.74501145e-01,\n",
       "         9.16836886e-01,  1.15917263e+00,  1.03800476e+00,\n",
       "         1.89829664e-01, -1.73673948e-01, -4.16009689e-01,\n",
       "        -4.16009689e-01, -5.25060772e-02,  1.89829664e-01,\n",
       "        -5.37177559e-01,  1.89829664e-01,  1.03800476e+00,\n",
       "         5.53333275e-01, -2.94841818e-01, -4.16009689e-01,\n",
       "        -4.16009689e-01,  3.10997534e-01, -5.25060772e-02,\n",
       "        -1.02184904e+00, -2.94841818e-01, -1.73673948e-01,\n",
       "        -1.73673948e-01,  4.32165405e-01, -9.00681170e-01,\n",
       "        -1.73673948e-01,  5.53333275e-01, -5.25060772e-02,\n",
       "         1.52267624e+00,  5.53333275e-01,  7.95669016e-01,\n",
       "         2.12851559e+00, -1.14301691e+00,  1.76501198e+00,\n",
       "         1.03800476e+00,  1.64384411e+00,  7.95669016e-01,\n",
       "         6.74501145e-01,  1.15917263e+00, -1.73673948e-01,\n",
       "        -5.25060772e-02,  6.74501145e-01,  7.95669016e-01,\n",
       "         2.24968346e+00,  2.24968346e+00,  1.89829664e-01,\n",
       "         1.28034050e+00, -2.94841818e-01,  2.24968346e+00,\n",
       "         5.53333275e-01,  1.03800476e+00,  1.64384411e+00,\n",
       "         4.32165405e-01,  3.10997534e-01,  6.74501145e-01,\n",
       "         1.64384411e+00,  1.88617985e+00,  2.49201920e+00,\n",
       "         6.74501145e-01,  5.53333275e-01,  3.10997534e-01,\n",
       "         2.24968346e+00,  5.53333275e-01,  6.74501145e-01,\n",
       "         1.89829664e-01,  1.28034050e+00,  1.03800476e+00,\n",
       "         1.28034050e+00, -5.25060772e-02,  1.15917263e+00,\n",
       "         1.03800476e+00,  1.03800476e+00,  5.53333275e-01,\n",
       "         7.95669016e-01,  4.32165405e-01,  6.86617933e-02],\n",
       "       [ 1.01900435e+00, -1.31979479e-01,  3.28414053e-01,\n",
       "         9.82172869e-02,  1.24920112e+00,  1.93979142e+00,\n",
       "         7.88807586e-01,  7.88807586e-01, -3.62176246e-01,\n",
       "         9.82172869e-02,  1.47939788e+00,  7.88807586e-01,\n",
       "        -1.31979479e-01, -1.31979479e-01,  2.16998818e+00,\n",
       "         3.09077525e+00,  1.93979142e+00,  1.01900435e+00,\n",
       "         1.70959465e+00,  1.70959465e+00,  7.88807586e-01,\n",
       "         1.47939788e+00,  1.24920112e+00,  5.58610819e-01,\n",
       "         7.88807586e-01, -1.31979479e-01,  7.88807586e-01,\n",
       "         1.01900435e+00,  7.88807586e-01,  3.28414053e-01,\n",
       "         9.82172869e-02,  7.88807586e-01,  2.40018495e+00,\n",
       "         2.63038172e+00,  9.82172869e-02,  3.28414053e-01,\n",
       "         1.01900435e+00,  1.24920112e+00, -1.31979479e-01,\n",
       "         7.88807586e-01,  1.01900435e+00, -1.74335684e+00,\n",
       "         3.28414053e-01,  1.01900435e+00,  1.70959465e+00,\n",
       "        -1.31979479e-01,  1.70959465e+00,  3.28414053e-01,\n",
       "         1.47939788e+00,  5.58610819e-01,  3.28414053e-01,\n",
       "         3.28414053e-01,  9.82172869e-02, -1.74335684e+00,\n",
       "        -5.92373012e-01, -5.92373012e-01,  5.58610819e-01,\n",
       "        -1.51316008e+00, -3.62176246e-01, -8.22569778e-01,\n",
       "        -2.43394714e+00, -1.31979479e-01, -1.97355361e+00,\n",
       "        -3.62176246e-01, -3.62176246e-01,  9.82172869e-02,\n",
       "        -1.31979479e-01, -8.22569778e-01, -1.97355361e+00,\n",
       "        -1.28296331e+00,  3.28414053e-01, -5.92373012e-01,\n",
       "        -1.28296331e+00, -5.92373012e-01, -3.62176246e-01,\n",
       "        -1.31979479e-01, -5.92373012e-01, -1.31979479e-01,\n",
       "        -3.62176246e-01, -1.05276654e+00, -1.51316008e+00,\n",
       "        -1.51316008e+00, -8.22569778e-01, -8.22569778e-01,\n",
       "        -1.31979479e-01,  7.88807586e-01,  9.82172869e-02,\n",
       "        -1.74335684e+00, -1.31979479e-01, -1.28296331e+00,\n",
       "        -1.05276654e+00, -1.31979479e-01, -1.05276654e+00,\n",
       "        -1.74335684e+00, -8.22569778e-01, -1.31979479e-01,\n",
       "        -3.62176246e-01, -3.62176246e-01, -1.28296331e+00,\n",
       "        -5.92373012e-01,  5.58610819e-01, -8.22569778e-01,\n",
       "        -1.31979479e-01, -3.62176246e-01, -1.31979479e-01,\n",
       "        -1.31979479e-01, -1.28296331e+00, -3.62176246e-01,\n",
       "        -1.28296331e+00,  1.24920112e+00,  3.28414053e-01,\n",
       "        -8.22569778e-01, -1.31979479e-01, -1.28296331e+00,\n",
       "        -5.92373012e-01,  3.28414053e-01, -1.31979479e-01,\n",
       "         1.70959465e+00, -1.05276654e+00, -1.97355361e+00,\n",
       "         3.28414053e-01, -5.92373012e-01, -5.92373012e-01,\n",
       "        -8.22569778e-01,  5.58610819e-01,  3.28414053e-01,\n",
       "        -5.92373012e-01, -1.31979479e-01, -5.92373012e-01,\n",
       "        -1.31979479e-01, -5.92373012e-01,  1.70959465e+00,\n",
       "        -5.92373012e-01, -5.92373012e-01, -1.05276654e+00,\n",
       "        -1.31979479e-01,  7.88807586e-01,  9.82172869e-02,\n",
       "        -1.31979479e-01,  9.82172869e-02,  9.82172869e-02,\n",
       "         9.82172869e-02, -8.22569778e-01,  3.28414053e-01,\n",
       "         5.58610819e-01, -1.31979479e-01, -1.28296331e+00,\n",
       "        -1.31979479e-01,  7.88807586e-01, -1.31979479e-01],\n",
       "       [-1.34022653e+00, -1.34022653e+00, -1.39706395e+00,\n",
       "        -1.28338910e+00, -1.34022653e+00, -1.16971425e+00,\n",
       "        -1.34022653e+00, -1.28338910e+00, -1.34022653e+00,\n",
       "        -1.28338910e+00, -1.28338910e+00, -1.22655167e+00,\n",
       "        -1.34022653e+00, -1.51073881e+00, -1.45390138e+00,\n",
       "        -1.28338910e+00, -1.39706395e+00, -1.34022653e+00,\n",
       "        -1.16971425e+00, -1.28338910e+00, -1.16971425e+00,\n",
       "        -1.28338910e+00, -1.56757623e+00, -1.16971425e+00,\n",
       "        -1.05603939e+00, -1.22655167e+00, -1.22655167e+00,\n",
       "        -1.28338910e+00, -1.34022653e+00, -1.22655167e+00,\n",
       "        -1.22655167e+00, -1.28338910e+00, -1.28338910e+00,\n",
       "        -1.34022653e+00, -1.28338910e+00, -1.45390138e+00,\n",
       "        -1.39706395e+00, -1.34022653e+00, -1.39706395e+00,\n",
       "        -1.28338910e+00, -1.39706395e+00, -1.39706395e+00,\n",
       "        -1.39706395e+00, -1.22655167e+00, -1.05603939e+00,\n",
       "        -1.34022653e+00, -1.22655167e+00, -1.34022653e+00,\n",
       "        -1.28338910e+00, -1.34022653e+00,  5.35408562e-01,\n",
       "         4.21733708e-01,  6.49083415e-01,  1.37546573e-01,\n",
       "         4.78571135e-01,  4.21733708e-01,  5.35408562e-01,\n",
       "        -2.60315415e-01,  4.78571135e-01,  8.07091462e-02,\n",
       "        -1.46640561e-01,  2.51221427e-01,  1.37546573e-01,\n",
       "         5.35408562e-01, -8.98031345e-02,  3.64896281e-01,\n",
       "         4.21733708e-01,  1.94384000e-01,  4.21733708e-01,\n",
       "         8.07091462e-02,  5.92245988e-01,  1.37546573e-01,\n",
       "         6.49083415e-01,  5.35408562e-01,  3.08058854e-01,\n",
       "         3.64896281e-01,  5.92245988e-01,  7.05920842e-01,\n",
       "         4.21733708e-01, -1.46640561e-01,  2.38717193e-02,\n",
       "        -3.29657076e-02,  8.07091462e-02,  7.62758269e-01,\n",
       "         4.21733708e-01,  4.21733708e-01,  5.35408562e-01,\n",
       "         3.64896281e-01,  1.94384000e-01,  1.37546573e-01,\n",
       "         3.64896281e-01,  4.78571135e-01,  1.37546573e-01,\n",
       "        -2.60315415e-01,  2.51221427e-01,  2.51221427e-01,\n",
       "         2.51221427e-01,  3.08058854e-01, -4.30827696e-01,\n",
       "         1.94384000e-01,  1.27429511e+00,  7.62758269e-01,\n",
       "         1.21745768e+00,  1.04694540e+00,  1.16062026e+00,\n",
       "         1.61531967e+00,  4.21733708e-01,  1.44480739e+00,\n",
       "         1.16062026e+00,  1.33113254e+00,  7.62758269e-01,\n",
       "         8.76433123e-01,  9.90107977e-01,  7.05920842e-01,\n",
       "         7.62758269e-01,  8.76433123e-01,  9.90107977e-01,\n",
       "         1.67215710e+00,  1.78583195e+00,  7.05920842e-01,\n",
       "         1.10378283e+00,  6.49083415e-01,  1.67215710e+00,\n",
       "         6.49083415e-01,  1.10378283e+00,  1.27429511e+00,\n",
       "         5.92245988e-01,  6.49083415e-01,  1.04694540e+00,\n",
       "         1.16062026e+00,  1.33113254e+00,  1.50164482e+00,\n",
       "         1.04694540e+00,  7.62758269e-01,  1.04694540e+00,\n",
       "         1.33113254e+00,  1.04694540e+00,  9.90107977e-01,\n",
       "         5.92245988e-01,  9.33270550e-01,  1.04694540e+00,\n",
       "         7.62758269e-01,  7.62758269e-01,  1.21745768e+00,\n",
       "         1.10378283e+00,  8.19595696e-01,  7.05920842e-01,\n",
       "         8.19595696e-01,  9.33270550e-01,  7.62758269e-01],\n",
       "       [-1.31544430e+00, -1.31544430e+00, -1.31544430e+00,\n",
       "        -1.31544430e+00, -1.31544430e+00, -1.05217993e+00,\n",
       "        -1.18381211e+00, -1.31544430e+00, -1.31544430e+00,\n",
       "        -1.44707648e+00, -1.31544430e+00, -1.31544430e+00,\n",
       "        -1.44707648e+00, -1.44707648e+00, -1.31544430e+00,\n",
       "        -1.05217993e+00, -1.05217993e+00, -1.18381211e+00,\n",
       "        -1.18381211e+00, -1.18381211e+00, -1.31544430e+00,\n",
       "        -1.05217993e+00, -1.31544430e+00, -9.20547742e-01,\n",
       "        -1.31544430e+00, -1.31544430e+00, -1.05217993e+00,\n",
       "        -1.31544430e+00, -1.31544430e+00, -1.31544430e+00,\n",
       "        -1.31544430e+00, -1.05217993e+00, -1.44707648e+00,\n",
       "        -1.31544430e+00, -1.31544430e+00, -1.31544430e+00,\n",
       "        -1.31544430e+00, -1.44707648e+00, -1.31544430e+00,\n",
       "        -1.31544430e+00, -1.18381211e+00, -1.18381211e+00,\n",
       "        -1.31544430e+00, -7.88915558e-01, -1.05217993e+00,\n",
       "        -1.18381211e+00, -1.31544430e+00, -1.31544430e+00,\n",
       "        -1.31544430e+00, -1.31544430e+00,  2.64141916e-01,\n",
       "         3.95774101e-01,  3.95774101e-01,  1.32509732e-01,\n",
       "         3.95774101e-01,  1.32509732e-01,  5.27406285e-01,\n",
       "        -2.62386821e-01,  1.32509732e-01,  2.64141916e-01,\n",
       "        -2.62386821e-01,  3.95774101e-01, -2.62386821e-01,\n",
       "         2.64141916e-01,  1.32509732e-01,  2.64141916e-01,\n",
       "         3.95774101e-01, -2.62386821e-01,  3.95774101e-01,\n",
       "        -1.30754636e-01,  7.90670654e-01,  1.32509732e-01,\n",
       "         3.95774101e-01,  8.77547895e-04,  1.32509732e-01,\n",
       "         2.64141916e-01,  2.64141916e-01,  6.59038469e-01,\n",
       "         3.95774101e-01, -2.62386821e-01, -1.30754636e-01,\n",
       "        -2.62386821e-01,  8.77547895e-04,  5.27406285e-01,\n",
       "         3.95774101e-01,  5.27406285e-01,  3.95774101e-01,\n",
       "         1.32509732e-01,  1.32509732e-01,  1.32509732e-01,\n",
       "         8.77547895e-04,  2.64141916e-01,  8.77547895e-04,\n",
       "        -2.62386821e-01,  1.32509732e-01,  8.77547895e-04,\n",
       "         1.32509732e-01,  1.32509732e-01, -1.30754636e-01,\n",
       "         1.32509732e-01,  1.71209594e+00,  9.22302838e-01,\n",
       "         1.18556721e+00,  7.90670654e-01,  1.31719939e+00,\n",
       "         1.18556721e+00,  6.59038469e-01,  7.90670654e-01,\n",
       "         7.90670654e-01,  1.71209594e+00,  1.05393502e+00,\n",
       "         9.22302838e-01,  1.18556721e+00,  1.05393502e+00,\n",
       "         1.58046376e+00,  1.44883158e+00,  7.90670654e-01,\n",
       "         1.31719939e+00,  1.44883158e+00,  3.95774101e-01,\n",
       "         1.44883158e+00,  1.05393502e+00,  1.05393502e+00,\n",
       "         7.90670654e-01,  1.18556721e+00,  7.90670654e-01,\n",
       "         7.90670654e-01,  7.90670654e-01,  1.18556721e+00,\n",
       "         5.27406285e-01,  9.22302838e-01,  1.05393502e+00,\n",
       "         1.31719939e+00,  3.95774101e-01,  2.64141916e-01,\n",
       "         1.44883158e+00,  1.58046376e+00,  7.90670654e-01,\n",
       "         7.90670654e-01,  1.18556721e+00,  1.58046376e+00,\n",
       "         1.44883158e+00,  9.22302838e-01,  1.44883158e+00,\n",
       "         1.71209594e+00,  1.44883158e+00,  9.22302838e-01,\n",
       "         1.05393502e+00,  1.44883158e+00,  7.90670654e-01]])"
      ]
     },
     "execution_count": 5,
     "metadata": {},
     "output_type": "execute_result"
    }
   ],
   "source": [
    "x_scaled = StandardScaler().fit_transform(x)\n",
    "\n",
    "features = x_scaled.T\n",
    "features"
   ]
  },
  {
   "cell_type": "code",
   "execution_count": 6,
   "id": "7ecd6829",
   "metadata": {},
   "outputs": [
    {
     "data": {
      "text/plain": [
       "array([[ 1.00671141, -0.11835884,  0.87760447,  0.82343066],\n",
       "       [-0.11835884,  1.00671141, -0.43131554, -0.36858315],\n",
       "       [ 0.87760447, -0.43131554,  1.00671141,  0.96932762],\n",
       "       [ 0.82343066, -0.36858315,  0.96932762,  1.00671141]])"
      ]
     },
     "execution_count": 6,
     "metadata": {},
     "output_type": "execute_result"
    }
   ],
   "source": [
    "cov_mat = np.cov(features)\n",
    "\n",
    "cov_mat"
   ]
  },
  {
   "cell_type": "code",
   "execution_count": 8,
   "id": "64c8dc18",
   "metadata": {},
   "outputs": [
    {
     "data": {
      "text/plain": [
       "array([[ 0.52106591, -0.37741762, -0.71956635,  0.26128628],\n",
       "       [-0.26934744, -0.92329566,  0.24438178, -0.12350962],\n",
       "       [ 0.5804131 , -0.02449161,  0.14212637, -0.80144925],\n",
       "       [ 0.56485654, -0.06694199,  0.63427274,  0.52359713]])"
      ]
     },
     "execution_count": 8,
     "metadata": {},
     "output_type": "execute_result"
    }
   ],
   "source": [
    "values, vectors = np.linalg.eig(cov_mat)\n",
    "vectors"
   ]
  },
  {
   "cell_type": "code",
   "execution_count": 9,
   "id": "918a5100",
   "metadata": {},
   "outputs": [
    {
     "data": {
      "text/plain": [
       "[72.96244541329987, 22.850761786701757, 3.6689218892828825, 0.5178709107154802]"
      ]
     },
     "execution_count": 9,
     "metadata": {},
     "output_type": "execute_result"
    }
   ],
   "source": [
    "exp_var = []\n",
    "for i in values:\n",
    "    exp_var.append((i/np.sum(values))*100)\n",
    "exp_var"
   ]
  },
  {
   "cell_type": "code",
   "execution_count": 15,
   "id": "0c86f128",
   "metadata": {},
   "outputs": [
    {
     "data": {
      "image/png": "[encoded data removed]",
      "text/plain": [
       "<Figure size 640x480 with 1 Axes>"
      ]
     },
     "metadata": {},
     "output_type": "display_data"
    }
   ],
   "source": [
    "plt.bar(range(4),exp_var,)\n",
    "plt.show()"
   ]
  },
  {
   "cell_type": "code",
   "execution_count": 17,
   "id": "874eff50",
   "metadata": {},
   "outputs": [
    {
     "data": {
      "text/html": [
       "<div>\n",
       "<style scoped>\n",
       "    .dataframe tbody tr th:only-of-type {\n",
       "        vertical-align: middle;\n",
       "    }\n",
       "\n",
       "    .dataframe tbody tr th {\n",
       "        vertical-align: top;\n",
       "    }\n",
       "\n",
       "    .dataframe thead th {\n",
       "        text-align: right;\n",
       "    }\n",
       "</style>\n",
       "<table border=\"1\" class=\"dataframe\">\n",
       "  <thead>\n",
       "    <tr style=\"text-align: right;\">\n",
       "      <th></th>\n",
       "      <th>PC1</th>\n",
       "      <th>PC2</th>\n",
       "      <th>Y</th>\n",
       "    </tr>\n",
       "  </thead>\n",
       "  <tbody>\n",
       "    <tr>\n",
       "      <th>0</th>\n",
       "      <td>-2.264703</td>\n",
       "      <td>-0.480027</td>\n",
       "      <td>1</td>\n",
       "    </tr>\n",
       "    <tr>\n",
       "      <th>1</th>\n",
       "      <td>-2.080961</td>\n",
       "      <td>0.674134</td>\n",
       "      <td>1</td>\n",
       "    </tr>\n",
       "    <tr>\n",
       "      <th>2</th>\n",
       "      <td>-2.364229</td>\n",
       "      <td>0.341908</td>\n",
       "      <td>1</td>\n",
       "    </tr>\n",
       "    <tr>\n",
       "      <th>3</th>\n",
       "      <td>-2.299384</td>\n",
       "      <td>0.597395</td>\n",
       "      <td>1</td>\n",
       "    </tr>\n",
       "    <tr>\n",
       "      <th>4</th>\n",
       "      <td>-2.389842</td>\n",
       "      <td>-0.646835</td>\n",
       "      <td>1</td>\n",
       "    </tr>\n",
       "  </tbody>\n",
       "</table>\n",
       "</div>"
      ],
      "text/plain": [
       "        PC1       PC2  Y\n",
       "0 -2.264703 -0.480027  1\n",
       "1 -2.080961  0.674134  1\n",
       "2 -2.364229  0.341908  1\n",
       "3 -2.299384  0.597395  1\n",
       "4 -2.389842 -0.646835  1"
      ]
     },
     "execution_count": 17,
     "metadata": {},
     "output_type": "execute_result"
    }
   ],
   "source": [
    "projected_1 = x_scaled.dot(vectors.T[0])\n",
    "projected_2 = x_scaled.dot(vectors.T[1])\n",
    "\n",
    "res = pd.DataFrame(projected_1,columns=['PC1'])\n",
    "res['PC2'] = projected_2\n",
    "res['Y'] = y\n",
    "res.head()"
   ]
  },
  {
   "cell_type": "code",
   "execution_count": null,
   "id": "9b6a23e5",
   "metadata": {},
   "outputs": [],
   "source": []
  }
 ],
 "metadata": {
  "kernelspec": {
   "display_name": "Python 3 (ipykernel)",
   "language": "python",
   "name": "python3"
  },
  "language_info": {
   "codemirror_mode": {
    "name": "ipython",
    "version": 3
   },
   "file_extension": ".py",
   "mimetype": "text/x-python",
   "name": "python",
   "nbconvert_exporter": "python",
   "pygments_lexer": "ipython3",
   "version": "3.9.13"
  }
 },
 "nbformat": 4,
 "nbformat_minor": 5
}
