{
 "cells": [
  {
   "cell_type": "code",
   "execution_count": 1,
   "id": "7ddfa816",
   "metadata": {},
   "outputs": [],
   "source": [
    "import pandas as pd\n",
    "import numpy as np\n",
    "from sklearn.svm import SVC\n",
    "from sklearn.metrics import classification_report,accuracy_score,confusion_matrix\n",
    "from sklearn.model_selection import train_test_split,GridSearchCV"
   ]
  },
  {
   "cell_type": "code",
   "execution_count": 2,
   "id": "0af3011a",
   "metadata": {},
   "outputs": [],
   "source": [
    "data = pd.read_csv('C:/Users/prate/Downloads/glass.csv')"
   ]
  },
  {
   "cell_type": "code",
   "execution_count": 3,
   "id": "603f4e7b",
   "metadata": {},
   "outputs": [],
   "source": [
    "x = data.drop('Type',axis = 1)\n",
    "y = data.Type"
   ]
  },
  {
   "cell_type": "code",
   "execution_count": 4,
   "id": "52828e32",
   "metadata": {},
   "outputs": [],
   "source": [
    "xtrain,xtest,ytrain,ytest = train_test_split(x,y,test_size=0.3)"
   ]
  },
  {
   "cell_type": "code",
   "execution_count": 5,
   "id": "3b7b81b0",
   "metadata": {},
   "outputs": [
    {
     "data": {
      "text/plain": [
       "SVC(kernel='linear')"
      ]
     },
     "execution_count": 5,
     "metadata": {},
     "output_type": "execute_result"
    }
   ],
   "source": [
    "svm1 = SVC(kernel='linear')\n",
    "svm1.fit(xtrain,ytrain)"
   ]
  },
  {
   "cell_type": "code",
   "execution_count": 6,
   "id": "ef2bd23a",
   "metadata": {},
   "outputs": [
    {
     "data": {
      "text/plain": [
       "array([1, 1, 2, 2, 1, 3, 2, 1, 3, 3, 3, 2, 6, 5, 2, 5, 2, 7, 2, 2, 3, 2,\n",
       "       6, 2, 1, 2, 1, 1, 6, 1, 2, 1, 2, 6, 3, 2, 1, 2, 2, 6, 1, 7, 2, 2,\n",
       "       5, 1, 2, 5, 2, 2, 2, 7, 7, 7, 1, 1, 2, 7, 1, 1, 2, 1, 2, 1, 2],\n",
       "      dtype=int64)"
      ]
     },
     "execution_count": 6,
     "metadata": {},
     "output_type": "execute_result"
    }
   ],
   "source": [
    "ypred = svm1.predict(xtest)\n",
    "ypred"
   ]
  },
  {
   "cell_type": "code",
   "execution_count": 7,
   "id": "35cf518e",
   "metadata": {},
   "outputs": [
    {
     "name": "stdout",
     "output_type": "stream",
     "text": [
      "0.9846153846153847\n"
     ]
    }
   ],
   "source": [
    "print(accuracy_score(ytest,ypred))"
   ]
  },
  {
   "cell_type": "code",
   "execution_count": 8,
   "id": "30a730b9",
   "metadata": {},
   "outputs": [
    {
     "name": "stdout",
     "output_type": "stream",
     "text": [
      "              precision    recall  f1-score   support\n",
      "\n",
      "           1       1.00      1.00      1.00        18\n",
      "           2       1.00      1.00      1.00        26\n",
      "           3       0.83      1.00      0.91         5\n",
      "           5       1.00      0.80      0.89         5\n",
      "           6       1.00      1.00      1.00         5\n",
      "           7       1.00      1.00      1.00         6\n",
      "\n",
      "    accuracy                           0.98        65\n",
      "   macro avg       0.97      0.97      0.97        65\n",
      "weighted avg       0.99      0.98      0.98        65\n",
      "\n"
     ]
    }
   ],
   "source": [
    "print(classification_report(ytest,ypred))"
   ]
  },
  {
   "cell_type": "code",
   "execution_count": 9,
   "id": "f45aad94",
   "metadata": {},
   "outputs": [
    {
     "name": "stdout",
     "output_type": "stream",
     "text": [
      "[[18  0  0  0  0  0]\n",
      " [ 0 26  0  0  0  0]\n",
      " [ 0  0  5  0  0  0]\n",
      " [ 0  0  1  4  0  0]\n",
      " [ 0  0  0  0  5  0]\n",
      " [ 0  0  0  0  0  6]]\n"
     ]
    }
   ],
   "source": [
    "print(confusion_matrix(ytest,ypred))"
   ]
  },
  {
   "cell_type": "code",
   "execution_count": 11,
   "id": "1e294224",
   "metadata": {},
   "outputs": [
    {
     "name": "stdout",
     "output_type": "stream",
     "text": [
      "0.27692307692307694\n",
      "0.27692307692307694\n",
      "0.7384615384615385\n"
     ]
    }
   ],
   "source": [
    "model1 = SVC(kernel='sigmoid',gamma = 0.001)\n",
    "model2 = SVC(kernel='poly',degree=0.3)\n",
    "model3 = SVC(kernel='rbf')\n",
    "\n",
    "model1.fit(xtrain,ytrain)\n",
    "model2.fit(xtrain,ytrain)\n",
    "model3.fit(xtrain,ytrain)\n",
    "\n",
    "ypred1 = model1.predict(xtest)\n",
    "ypred2 = model2.predict(xtest)\n",
    "ypred3 = model3.predict(xtest)\n",
    "\n",
    "print(accuracy_score(ytest,ypred1))\n",
    "print(accuracy_score(ytest,ypred2))\n",
    "print(accuracy_score(ytest,ypred3))"
   ]
  },
  {
   "cell_type": "code",
   "execution_count": 13,
   "id": "71dc163f",
   "metadata": {},
   "outputs": [],
   "source": [
    "grid_params = [{'kernel':['linear'],'C':[1,10,100,1000]},\n",
    "                {'kernel':['rbf'],'gamma':[1e-3,1e-4],'C':[1,10,100,1000]},\n",
    "              {'kernel':['poly'],'gamma':[1e-3,1e-4],'degree':[2,3,4]},\n",
    "               {'kernel':['sigmoid'],'gamma':[1e-3,1e-4,1e-5],'C':[1,10,100,1000]}]"
   ]
  },
  {
   "cell_type": "code",
   "execution_count": 15,
   "id": "4eb1457e",
   "metadata": {},
   "outputs": [
    {
     "name": "stderr",
     "output_type": "stream",
     "text": [
      "C:\\Users\\prate\\anaconda3\\lib\\site-packages\\sklearn\\model_selection\\_split.py:676: UserWarning: The least populated class in y has only 4 members, which is less than n_splits=5.\n",
      "  warnings.warn(\n"
     ]
    },
    {
     "data": {
      "text/plain": [
       "GridSearchCV(cv=5, estimator=SVC(),\n",
       "             param_grid=[{'C': [1, 10, 100, 1000], 'kernel': ['linear']},\n",
       "                         {'C': [1, 10, 100, 1000], 'gamma': [0.001, 0.0001],\n",
       "                          'kernel': ['rbf']},\n",
       "                         {'degree': [2, 3, 4], 'gamma': [0.001, 0.0001],\n",
       "                          'kernel': ['poly']},\n",
       "                         {'C': [1, 10, 100, 1000],\n",
       "                          'gamma': [0.001, 0.0001, 1e-05],\n",
       "                          'kernel': ['sigmoid']}])"
      ]
     },
     "execution_count": 15,
     "metadata": {},
     "output_type": "execute_result"
    }
   ],
   "source": [
    "svm_model1 = GridSearchCV(SVC(),grid_params,cv=5)\n",
    "svm_model1.fit(xtrain,ytrain)"
   ]
  },
  {
   "cell_type": "code",
   "execution_count": 16,
   "id": "32dbd8b4",
   "metadata": {},
   "outputs": [
    {
     "name": "stdout",
     "output_type": "stream",
     "text": [
      "best score 0.9866666666666667 \n",
      "\n",
      "best C  10 \n",
      "\n",
      "best gamma 0.001 \n",
      "\n",
      "best kernel rbf \n",
      "\n"
     ]
    }
   ],
   "source": [
    "print(\"best score\", svm_model1.best_score_,'\\n')\n",
    "print(\"best C \",svm_model1.best_estimator_.C,'\\n')\n",
    "print(\"best gamma\",svm_model1.best_estimator_.gamma,'\\n')\n",
    "print(\"best kernel\",svm_model1.best_estimator_.kernel,'\\n')"
   ]
  },
  {
   "cell_type": "code",
   "execution_count": null,
   "id": "de9fdd42",
   "metadata": {},
   "outputs": [],
   "source": [
    "final_model = svm_model1.best_estimator_\n",
    "\n",
    "final_model.fit(xtrain,ytrain)\n",
    "ypred = final_model(xtest)\n"
   ]
  }
 ],
 "metadata": {
  "kernelspec": {
   "display_name": "Python 3 (ipykernel)",
   "language": "python",
   "name": "python3"
  },
  "language_info": {
   "codemirror_mode": {
    "name": "ipython",
    "version": 3
   },
   "file_extension": ".py",
   "mimetype": "text/x-python",
   "name": "python",
   "nbconvert_exporter": "python",
   "pygments_lexer": "ipython3",
   "version": "3.9.13"
  }
 },
 "nbformat": 4,
 "nbformat_minor": 5
}
